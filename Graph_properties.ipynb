{
  "cells": [
    {
      "cell_type": "markdown",
      "metadata": {
        "id": "c6tpRnhgdAZ5"
      },
      "source": [
        "\n",
        "\n",
        "# First steps with Colab and Graphs"
      ]
    },
    {
      "cell_type": "markdown",
      "metadata": {
        "id": "SGQeJ6RAdAZ6"
      },
      "source": [
        "<a href=\"https://colab.research.google.com/github/joerg84/Graph_Powered_ML_Workshop/blob/master/Graph_properties.ipynb\" target=\"_parent\"><img src=\"https://colab.research.google.com/assets/colab-badge.svg\" alt=\"Open In Colab\"/></a>"
      ]
    },
    {
      "cell_type": "markdown",
      "metadata": {
        "id": "sxMRG10ldAZ6"
      },
      "source": [
        "# Getting Started\n",
        "\n",
        "Welcome to the first hands-on part of this workshop.\n",
        "In this jupyter notebook we will first explore out working environment–Jupyter notebooks and Google Colab–and then take our first steps exploring Graphs.\n",
        "\n"
      ]
    },
    {
      "cell_type": "markdown",
      "source": [
        "The first step in every excercise/notebook we will be the setting up our environment, in particular installing required packages:\n"
      ],
      "metadata": {
        "id": "l9pKWCKDNeGk"
      }
    },
    {
      "cell_type": "code",
      "execution_count": null,
      "metadata": {
        "id": "q3i99QX_dAZ7"
      },
      "outputs": [],
      "source": [
        "%%capture\n",
        "!pip3 install networkx\n",
        "!pip3 install matplotlib"
      ]
    },
    {
      "cell_type": "code",
      "execution_count": null,
      "metadata": {
        "id": "aVpLp6xZdAZ-"
      },
      "outputs": [],
      "source": [
        "import networkx as nx\n",
        "import matplotlib.pyplot as plt"
      ]
    },
    {
      "cell_type": "markdown",
      "source": [
        "# Colab & Jupyter Notebooks\n",
        "\n",
        "To have the same environment for everyboby, we have chosen [Google Colab](https://colab.research.google.com/), a hosted environment for Jupyter notebooks. Please note, that you can also access (and contribute to) the jupyter notebooks [here](https://github.com/joerg84/Graph_Powered_ML_Workshop).  \n",
        "\n",
        "Jupyter comes with a range of so called 'magic' functions. For example, feel free to to remove the *%%capture* for the first cell above, which captures/hides the output of the cell. If you want to learn about these jupyter cell magics check the [documentation](https://ipython.readthedocs.io/en/stable/interactive/magics.html)."
      ],
      "metadata": {
        "id": "BJBLxyNGO_dz"
      }
    },
    {
      "cell_type": "markdown",
      "source": [
        "## Runtime\n",
        "\n",
        "Colab gives us a a nice basic setup to run basic ML tasks. Let us check the available memory."
      ],
      "metadata": {
        "id": "VQ_jrv4SQXeq"
      }
    },
    {
      "cell_type": "code",
      "source": [
        "from psutil import virtual_memory\n",
        "ram_gb = virtual_memory().total / 1e9\n",
        "print('Your runtime has {:.1f} gigabytes of available RAM\\n'.format(ram_gb))\n",
        "\n",
        "if ram_gb < 20:\n",
        "  print('Not using a high-RAM runtime')\n",
        "else:\n",
        "  print('You are using a high-RAM runtime!')"
      ],
      "metadata": {
        "id": "F3BaT6ouSOBi",
        "outputId": "abc3bf38-08b4-4ec8-bdfa-236b0f3320c4",
        "colab": {
          "base_uri": "https://localhost:8080/"
        }
      },
      "execution_count": null,
      "outputs": [
        {
          "output_type": "stream",
          "name": "stdout",
          "text": [
            "Your runtime has 13.6 gigabytes of available RAM\n",
            "\n",
            "Not using a high-RAM runtime\n"
          ]
        }
      ]
    },
    {
      "cell_type": "markdown",
      "source": [
        "Colab also gives us acces to both GPUs and TPUs but we have to explicitly enable these by changign the runtime Runtime > Change runtime type. We can then check which GPUs we have available:"
      ],
      "metadata": {
        "id": "SBxxLnwSSQRz"
      }
    },
    {
      "cell_type": "code",
      "source": [
        "gpu_info = !nvidia-smi\n",
        "gpu_info = '\\n'.join(gpu_info)\n",
        "if gpu_info.find('failed') >= 0:\n",
        "  print('Not connected to a GPU')\n",
        "else:\n",
        "  print(gpu_info)"
      ],
      "metadata": {
        "id": "FQRCZlfDQ15S",
        "outputId": "047d0ba2-801f-4ed0-8d3b-93bcc00ab8b0",
        "colab": {
          "base_uri": "https://localhost:8080/"
        }
      },
      "execution_count": 1,
      "outputs": [
        {
          "output_type": "stream",
          "name": "stdout",
          "text": [
            "Thu Jun 22 04:11:29 2023       \n",
            "+-----------------------------------------------------------------------------+\n",
            "| NVIDIA-SMI 525.85.12    Driver Version: 525.85.12    CUDA Version: 12.0     |\n",
            "|-------------------------------+----------------------+----------------------+\n",
            "| GPU  Name        Persistence-M| Bus-Id        Disp.A | Volatile Uncorr. ECC |\n",
            "| Fan  Temp  Perf  Pwr:Usage/Cap|         Memory-Usage | GPU-Util  Compute M. |\n",
            "|                               |                      |               MIG M. |\n",
            "|===============================+======================+======================|\n",
            "|   0  NVIDIA A100-SXM...  Off  | 00000000:00:04.0 Off |                    0 |\n",
            "| N/A   32C    P0    44W / 400W |      0MiB / 40960MiB |      0%      Default |\n",
            "|                               |                      |             Disabled |\n",
            "+-------------------------------+----------------------+----------------------+\n",
            "                                                                               \n",
            "+-----------------------------------------------------------------------------+\n",
            "| Processes:                                                                  |\n",
            "|  GPU   GI   CI        PID   Type   Process name                  GPU Memory |\n",
            "|        ID   ID                                                   Usage      |\n",
            "|=============================================================================|\n",
            "|  No running processes found                                                 |\n",
            "+-----------------------------------------------------------------------------+\n"
          ]
        }
      ]
    },
    {
      "cell_type": "markdown",
      "metadata": {
        "id": "2qomWffKME4b"
      },
      "source": [
        "# First Graph"
      ]
    },
    {
      "cell_type": "markdown",
      "metadata": {
        "id": "6qUXpNSpDhue"
      },
      "source": [
        "Finally, let us create our first Graph for today :-)."
      ]
    },
    {
      "cell_type": "code",
      "execution_count": null,
      "metadata": {
        "id": "PLrKCPgudAaB"
      },
      "outputs": [],
      "source": [
        "G = nx.Graph()\n",
        "G.add_edges_from([(1, 2), (2, 3), (3,4), (4,1)])\n",
        "\n",
        "nx.draw(G, with_labels=True, font_weight='bold')\n",
        "\n",
        "print(\"Vertices:\")\n",
        "print(list(G.nodes))\n",
        "\n",
        "print(\"Edges:\")\n",
        "print(list(G.edges))\n",
        "\n",
        "print(\"Degree deg(1):\")\n",
        "print(G.degree[1])\n",
        "\n",
        "print(\"Eccentricity e(1):\")\n",
        "print(nx.eccentricity(G,1))\n",
        "\n",
        "print(\"Diameter d(G):\")\n",
        "print(nx.diameter(G))"
      ]
    },
    {
      "cell_type": "markdown",
      "metadata": {
        "id": "sffwOK9aO6yF"
      },
      "source": [
        "# Graph Properties"
      ]
    },
    {
      "cell_type": "markdown",
      "metadata": {
        "id": "KWnm9DxyDqz_"
      },
      "source": [
        "Next, let us explore different Graph properties.\n",
        "\n",
        "Feel free to alter the graph itself!"
      ]
    },
    {
      "cell_type": "code",
      "execution_count": null,
      "metadata": {
        "id": "ymlwlwjQO970"
      },
      "outputs": [],
      "source": [
        "dg = nx.DiGraph()\n",
        "dg.add_edges_from([(1, 2), (2, 3), (3,4), (4,1)])\n",
        "nx.draw(dg, with_labels=True, font_weight='bold')\n",
        "\n",
        "print(\"Degree:\")\n",
        "print(dg.degree[1])\n",
        "print(\"Indegree:\")\n",
        "print(dg.in_degree[1])\n",
        "print(\"Outdegree:\")\n",
        "print(dg.out_degree[1])\n"
      ]
    },
    {
      "cell_type": "code",
      "execution_count": null,
      "metadata": {
        "id": "rL1kPAcPQCeP"
      },
      "outputs": [],
      "source": [
        "# Weighted Graph\n",
        "wg = nx.Graph()\n",
        "wg.add_edge(1, 2, weight=0.54)\n",
        "wg.add_weighted_edges_from([ (2, 3, 0.75), (3, 4, 1), (4, 1, 1.25)])\n",
        "nx.draw(wg, with_labels=True, font_weight='bold')\n"
      ]
    },
    {
      "cell_type": "code",
      "execution_count": null,
      "metadata": {
        "id": "0lsBSMzsdAaJ"
      },
      "outputs": [],
      "source": [
        "# Complete Graph where all vertices are connected to all vertices\n",
        "com = nx.complete_graph(10)\n",
        "nx.draw(com, with_labels=True, font_weight='bold')"
      ]
    },
    {
      "cell_type": "code",
      "execution_count": null,
      "metadata": {
        "id": "Kt0iDeJQUiEV"
      },
      "outputs": [],
      "source": [
        "# Bipartite Graph has two distinct classes/types of nodes where each class is just connected to the other class\n",
        "B = nx.Graph()\n",
        "# Add nodes with the node attribute \"bipartite\"\n",
        "B.add_nodes_from([1, 2, 3, 4], bipartite=0)\n",
        "B.add_nodes_from([\"a\", \"b\", \"c\"], bipartite=1)\n",
        "# Add edges only between nodes of opposite node sets\n",
        "B.add_edges_from([(1, \"a\"), (1, \"b\"), (2, \"b\"), (2, \"c\"), (3, \"c\"), (4, \"a\")])\n",
        "\n",
        "nx.draw(B, with_labels=True, font_weight='bold')\n",
        "\n",
        "set1, set2 = nx.bipartite.sets(B)\n",
        "print(set1)\n",
        "print(set2)"
      ]
    },
    {
      "cell_type": "markdown",
      "source": [
        "# Zachary's karate club\n",
        "\n",
        "Zachary's [Karate Club Network](https://en.wikipedia.org/wiki/Zachary%27s_karate_club) is a graph which describes a social network of 34 members of a karate club and their interactins outside the class."
      ],
      "metadata": {
        "id": "u2HCEDfZTkKu"
      }
    },
    {
      "cell_type": "code",
      "source": [
        "G = nx.karate_club_graph()\n",
        "nx.draw(G, with_labels = True)"
      ],
      "metadata": {
        "id": "ZeafxGx9UMiA"
      },
      "execution_count": null,
      "outputs": []
    },
    {
      "cell_type": "markdown",
      "source": [
        "Let us check the type of Graph and some basic statistics."
      ],
      "metadata": {
        "id": "ll6LL71sUXD7"
      }
    },
    {
      "cell_type": "code",
      "source": [
        "num_edges = G.number_of_edges()\n",
        "num_nodes = G.number_of_nodes()\n",
        "type(G)"
      ],
      "metadata": {
        "id": "m5jeaDu2UV4u"
      },
      "execution_count": null,
      "outputs": []
    },
    {
      "cell_type": "markdown",
      "metadata": {
        "id": "oMTHrnX6To9A"
      },
      "source": [
        "# More Graph Algorithms\n",
        "\n",
        "## Traversals"
      ]
    },
    {
      "cell_type": "markdown",
      "metadata": {
        "id": "AxnMSefuEGGf"
      },
      "source": [
        "Next, let us look at simple Graph algorithms starting with Traversals:"
      ]
    },
    {
      "cell_type": "code",
      "execution_count": null,
      "metadata": {
        "id": "-9EyKdR5TtDY"
      },
      "outputs": [],
      "source": [
        "S = nx.complete_graph(5)\n",
        "nx.draw(S, with_labels=True, font_weight='bold')\n",
        "\n",
        "# Depth First\n",
        "print(list(nx.dfs_edges(S, source=0)))\n",
        "\n",
        "# Breadth First\n",
        "print(list(nx.bfs_edges(S, source=0)))"
      ]
    },
    {
      "cell_type": "markdown",
      "metadata": {
        "id": "5QL9Bu0-fbnp"
      },
      "source": [
        "# Shortest Path"
      ]
    },
    {
      "cell_type": "code",
      "execution_count": null,
      "metadata": {
        "id": "GJ5NjOXHgMVP"
      },
      "outputs": [],
      "source": [
        "G = nx.path_graph(5)\n",
        "nx.draw(G, with_labels=True, font_weight='bold')\n",
        "\n",
        "# Dijkstra\n",
        "print(nx.dijkstra_path(G, 0, 4))\n",
        "\n",
        "# Bellmann Ford\n",
        "print(nx.bellman_ford_path(G, 0, 4))\n",
        "\n",
        "# TODO: Test with negative weights"
      ]
    },
    {
      "cell_type": "markdown",
      "metadata": {
        "id": "vD4xSX6fgKAm"
      },
      "source": [
        "See more: https://networkx.github.io/documentation/stable/reference/algorithms/shortest_paths.html"
      ]
    },
    {
      "cell_type": "markdown",
      "metadata": {
        "id": "aCbTwSljlL5t"
      },
      "source": [
        "# Minimal Spanning Tree"
      ]
    },
    {
      "cell_type": "code",
      "execution_count": null,
      "metadata": {
        "id": "iRE-4IZjlPtZ"
      },
      "outputs": [],
      "source": [
        "from networkx.algorithms import tree\n",
        "G = nx.cycle_graph(4)\n",
        "G.add_edge(0, 3, weight=2)\n",
        "nx.draw(G, with_labels=True, font_weight='bold')\n",
        "\n",
        "# Kruskal's Algorithm\n",
        "mst = tree.minimum_spanning_edges(G, algorithm=\"kruskal\", data=False)\n",
        "edgelist = list(mst)\n",
        "print(sorted(sorted(e) for e in edgelist))\n",
        "\n",
        "# Prim's Algorithm\n",
        "mst = tree.minimum_spanning_edges(G, algorithm=\"prim\", data=False)\n",
        "edgelist = list(mst)\n",
        "print(sorted(sorted(e) for e in edgelist))"
      ]
    },
    {
      "cell_type": "markdown",
      "metadata": {
        "id": "AJ95moO0lwDu"
      },
      "source": [
        "# Cycle Detection\n"
      ]
    },
    {
      "cell_type": "code",
      "execution_count": null,
      "metadata": {
        "id": "6vJw2dOmnHfd"
      },
      "outputs": [],
      "source": [
        "edges = [(0, 0), (0, 1), (0, 2), (1, 2), (2, 0), (2, 1), (2, 2)]\n",
        "G = nx.DiGraph(edges)\n",
        "nx.draw(G, with_labels=True, font_weight='bold')\n",
        "\n",
        "list(nx.simple_cycles(G))"
      ]
    },
    {
      "cell_type": "markdown",
      "metadata": {
        "id": "G1cj-lkMpSIU"
      },
      "source": [
        "# Community Detection"
      ]
    },
    {
      "cell_type": "code",
      "execution_count": null,
      "metadata": {
        "id": "ewuhVS4NpRSY"
      },
      "outputs": [],
      "source": [
        "G = nx.cycle_graph(4, create_using=nx.DiGraph())\n",
        "nx.add_cycle(G, [10, 11, 12])\n",
        "nx.draw(G, with_labels=True, font_weight='bold')\n",
        "\n",
        "print(sorted(nx.strongly_connected_components(G), key=len, reverse=True))"
      ]
    },
    {
      "cell_type": "markdown",
      "metadata": {
        "id": "GKI02MN3rK06"
      },
      "source": [
        "# Topological Sort\n"
      ]
    },
    {
      "cell_type": "code",
      "execution_count": null,
      "metadata": {
        "id": "JFDtjll6rODJ"
      },
      "outputs": [],
      "source": [
        "DG = nx.DiGraph([(1, 2), (2, 3), (2, 4)])\n",
        "nx.draw(DG, with_labels=True, font_weight='bold')\n",
        "\n",
        "list(nx.all_topological_sorts(DG))"
      ]
    },
    {
      "cell_type": "markdown",
      "metadata": {
        "id": "9TzhLxPNv_lq"
      },
      "source": [
        "# Maximum Flow"
      ]
    },
    {
      "cell_type": "code",
      "execution_count": null,
      "metadata": {
        "id": "HAYiLupFwDMa"
      },
      "outputs": [],
      "source": [
        "G = nx.DiGraph()\n",
        "G.add_edge(\"x\", \"a\", capacity=3.0)\n",
        "G.add_edge(\"x\", \"b\", capacity=1.0)\n",
        "G.add_edge(\"a\", \"c\", capacity=3.0)\n",
        "G.add_edge(\"b\", \"c\", capacity=5.0)\n",
        "G.add_edge(\"b\", \"d\", capacity=4.0)\n",
        "G.add_edge(\"d\", \"e\", capacity=2.0)\n",
        "G.add_edge(\"c\", \"y\", capacity=2.0)\n",
        "G.add_edge(\"e\", \"y\", capacity=3.0)\n",
        "nx.draw(G, with_labels=True, font_weight='bold')\n",
        "\n",
        "flow_value, flow_dict = nx.maximum_flow(G, \"x\", \"y\")\n",
        "print(flow_value)\n",
        "print(flow_dict)\n"
      ]
    },
    {
      "cell_type": "markdown",
      "metadata": {
        "id": "FAmQddSmr8md"
      },
      "source": [
        "# Centrality"
      ]
    },
    {
      "cell_type": "code",
      "execution_count": null,
      "metadata": {
        "id": "kDTs8TjusBER"
      },
      "outputs": [],
      "source": [
        "RG = nx.gnp_random_graph(10, 0.3)\n",
        "nx.draw(RG, with_labels=True, font_weight='bold')\n",
        "\n",
        "nx.betweenness_centrality(RG)"
      ]
    },
    {
      "cell_type": "markdown",
      "metadata": {
        "id": "2PrOTIe0sBkk"
      },
      "source": [
        "Check (and try) more: https://networkx.github.io/documentation/stable/reference/algorithms/centrality.html"
      ]
    },
    {
      "cell_type": "markdown",
      "metadata": {
        "id": "DeBE6ll0S5ek"
      },
      "source": [
        "Check more: https://networkx.github.io/documentation/stable/reference/algorithms/index.html"
      ]
    }
  ],
  "metadata": {
    "colab": {
      "name": "Graph_properties.ipynb",
      "provenance": [],
      "gpuType": "A100"
    },
    "kernelspec": {
      "display_name": "Python 3",
      "name": "python3"
    },
    "language_info": {
      "codemirror_mode": {
        "name": "ipython",
        "version": 3
      },
      "file_extension": ".py",
      "mimetype": "text/x-python",
      "name": "python",
      "nbconvert_exporter": "python",
      "pygments_lexer": "ipython3",
      "version": "3.7.7"
    },
    "accelerator": "GPU"
  },
  "nbformat": 4,
  "nbformat_minor": 0
}