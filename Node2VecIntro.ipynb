{
  "nbformat": 4,
  "nbformat_minor": 0,
  "metadata": {
    "colab": {
      "provenance": [],
      "include_colab_link": true
    },
    "kernelspec": {
      "name": "python3",
      "display_name": "Python 3"
    },
    "language_info": {
      "name": "python"
    },
    "widgets": {
      "application/vnd.jupyter.widget-state+json": {
        "1765e7ef0aff48d989d3739b60a7f484": {
          "model_module": "@jupyter-widgets/controls",
          "model_name": "HBoxModel",
          "model_module_version": "1.5.0",
          "state": {
            "_dom_classes": [],
            "_model_module": "@jupyter-widgets/controls",
            "_model_module_version": "1.5.0",
            "_model_name": "HBoxModel",
            "_view_count": null,
            "_view_module": "@jupyter-widgets/controls",
            "_view_module_version": "1.5.0",
            "_view_name": "HBoxView",
            "box_style": "",
            "children": [
              "IPY_MODEL_fd26f66258c441afb81fdecef7106e57",
              "IPY_MODEL_0685a39222104cd983be153c53d93247",
              "IPY_MODEL_0254c2f147a2469eaac2f26b96f1c20b"
            ],
            "layout": "IPY_MODEL_c3c0d00c234e49dfa29c95f69ada667d"
          }
        },
        "fd26f66258c441afb81fdecef7106e57": {
          "model_module": "@jupyter-widgets/controls",
          "model_name": "HTMLModel",
          "model_module_version": "1.5.0",
          "state": {
            "_dom_classes": [],
            "_model_module": "@jupyter-widgets/controls",
            "_model_module_version": "1.5.0",
            "_model_name": "HTMLModel",
            "_view_count": null,
            "_view_module": "@jupyter-widgets/controls",
            "_view_module_version": "1.5.0",
            "_view_name": "HTMLView",
            "description": "",
            "description_tooltip": null,
            "layout": "IPY_MODEL_25ca1feb5c444331a4c84d569dbf81f6",
            "placeholder": "​",
            "style": "IPY_MODEL_5621c9718770420bae6ba2d8e3976299",
            "value": "Computing transition probabilities: 100%"
          }
        },
        "0685a39222104cd983be153c53d93247": {
          "model_module": "@jupyter-widgets/controls",
          "model_name": "FloatProgressModel",
          "model_module_version": "1.5.0",
          "state": {
            "_dom_classes": [],
            "_model_module": "@jupyter-widgets/controls",
            "_model_module_version": "1.5.0",
            "_model_name": "FloatProgressModel",
            "_view_count": null,
            "_view_module": "@jupyter-widgets/controls",
            "_view_module_version": "1.5.0",
            "_view_name": "ProgressView",
            "bar_style": "success",
            "description": "",
            "description_tooltip": null,
            "layout": "IPY_MODEL_e049f156a1ea4a009d069b85355d19ff",
            "max": 34,
            "min": 0,
            "orientation": "horizontal",
            "style": "IPY_MODEL_3e31a2ab9339490d98698b7bba2f2508",
            "value": 34
          }
        },
        "0254c2f147a2469eaac2f26b96f1c20b": {
          "model_module": "@jupyter-widgets/controls",
          "model_name": "HTMLModel",
          "model_module_version": "1.5.0",
          "state": {
            "_dom_classes": [],
            "_model_module": "@jupyter-widgets/controls",
            "_model_module_version": "1.5.0",
            "_model_name": "HTMLModel",
            "_view_count": null,
            "_view_module": "@jupyter-widgets/controls",
            "_view_module_version": "1.5.0",
            "_view_name": "HTMLView",
            "description": "",
            "description_tooltip": null,
            "layout": "IPY_MODEL_1cf9ed1aca4b4a4c893a16456ccb8e3d",
            "placeholder": "​",
            "style": "IPY_MODEL_a4bb25b004904aff8e2f6bf16b439157",
            "value": " 34/34 [00:00&lt;00:00, 655.57it/s]"
          }
        },
        "c3c0d00c234e49dfa29c95f69ada667d": {
          "model_module": "@jupyter-widgets/base",
          "model_name": "LayoutModel",
          "model_module_version": "1.2.0",
          "state": {
            "_model_module": "@jupyter-widgets/base",
            "_model_module_version": "1.2.0",
            "_model_name": "LayoutModel",
            "_view_count": null,
            "_view_module": "@jupyter-widgets/base",
            "_view_module_version": "1.2.0",
            "_view_name": "LayoutView",
            "align_content": null,
            "align_items": null,
            "align_self": null,
            "border": null,
            "bottom": null,
            "display": null,
            "flex": null,
            "flex_flow": null,
            "grid_area": null,
            "grid_auto_columns": null,
            "grid_auto_flow": null,
            "grid_auto_rows": null,
            "grid_column": null,
            "grid_gap": null,
            "grid_row": null,
            "grid_template_areas": null,
            "grid_template_columns": null,
            "grid_template_rows": null,
            "height": null,
            "justify_content": null,
            "justify_items": null,
            "left": null,
            "margin": null,
            "max_height": null,
            "max_width": null,
            "min_height": null,
            "min_width": null,
            "object_fit": null,
            "object_position": null,
            "order": null,
            "overflow": null,
            "overflow_x": null,
            "overflow_y": null,
            "padding": null,
            "right": null,
            "top": null,
            "visibility": null,
            "width": null
          }
        },
        "25ca1feb5c444331a4c84d569dbf81f6": {
          "model_module": "@jupyter-widgets/base",
          "model_name": "LayoutModel",
          "model_module_version": "1.2.0",
          "state": {
            "_model_module": "@jupyter-widgets/base",
            "_model_module_version": "1.2.0",
            "_model_name": "LayoutModel",
            "_view_count": null,
            "_view_module": "@jupyter-widgets/base",
            "_view_module_version": "1.2.0",
            "_view_name": "LayoutView",
            "align_content": null,
            "align_items": null,
            "align_self": null,
            "border": null,
            "bottom": null,
            "display": null,
            "flex": null,
            "flex_flow": null,
            "grid_area": null,
            "grid_auto_columns": null,
            "grid_auto_flow": null,
            "grid_auto_rows": null,
            "grid_column": null,
            "grid_gap": null,
            "grid_row": null,
            "grid_template_areas": null,
            "grid_template_columns": null,
            "grid_template_rows": null,
            "height": null,
            "justify_content": null,
            "justify_items": null,
            "left": null,
            "margin": null,
            "max_height": null,
            "max_width": null,
            "min_height": null,
            "min_width": null,
            "object_fit": null,
            "object_position": null,
            "order": null,
            "overflow": null,
            "overflow_x": null,
            "overflow_y": null,
            "padding": null,
            "right": null,
            "top": null,
            "visibility": null,
            "width": null
          }
        },
        "5621c9718770420bae6ba2d8e3976299": {
          "model_module": "@jupyter-widgets/controls",
          "model_name": "DescriptionStyleModel",
          "model_module_version": "1.5.0",
          "state": {
            "_model_module": "@jupyter-widgets/controls",
            "_model_module_version": "1.5.0",
            "_model_name": "DescriptionStyleModel",
            "_view_count": null,
            "_view_module": "@jupyter-widgets/base",
            "_view_module_version": "1.2.0",
            "_view_name": "StyleView",
            "description_width": ""
          }
        },
        "e049f156a1ea4a009d069b85355d19ff": {
          "model_module": "@jupyter-widgets/base",
          "model_name": "LayoutModel",
          "model_module_version": "1.2.0",
          "state": {
            "_model_module": "@jupyter-widgets/base",
            "_model_module_version": "1.2.0",
            "_model_name": "LayoutModel",
            "_view_count": null,
            "_view_module": "@jupyter-widgets/base",
            "_view_module_version": "1.2.0",
            "_view_name": "LayoutView",
            "align_content": null,
            "align_items": null,
            "align_self": null,
            "border": null,
            "bottom": null,
            "display": null,
            "flex": null,
            "flex_flow": null,
            "grid_area": null,
            "grid_auto_columns": null,
            "grid_auto_flow": null,
            "grid_auto_rows": null,
            "grid_column": null,
            "grid_gap": null,
            "grid_row": null,
            "grid_template_areas": null,
            "grid_template_columns": null,
            "grid_template_rows": null,
            "height": null,
            "justify_content": null,
            "justify_items": null,
            "left": null,
            "margin": null,
            "max_height": null,
            "max_width": null,
            "min_height": null,
            "min_width": null,
            "object_fit": null,
            "object_position": null,
            "order": null,
            "overflow": null,
            "overflow_x": null,
            "overflow_y": null,
            "padding": null,
            "right": null,
            "top": null,
            "visibility": null,
            "width": null
          }
        },
        "3e31a2ab9339490d98698b7bba2f2508": {
          "model_module": "@jupyter-widgets/controls",
          "model_name": "ProgressStyleModel",
          "model_module_version": "1.5.0",
          "state": {
            "_model_module": "@jupyter-widgets/controls",
            "_model_module_version": "1.5.0",
            "_model_name": "ProgressStyleModel",
            "_view_count": null,
            "_view_module": "@jupyter-widgets/base",
            "_view_module_version": "1.2.0",
            "_view_name": "StyleView",
            "bar_color": null,
            "description_width": ""
          }
        },
        "1cf9ed1aca4b4a4c893a16456ccb8e3d": {
          "model_module": "@jupyter-widgets/base",
          "model_name": "LayoutModel",
          "model_module_version": "1.2.0",
          "state": {
            "_model_module": "@jupyter-widgets/base",
            "_model_module_version": "1.2.0",
            "_model_name": "LayoutModel",
            "_view_count": null,
            "_view_module": "@jupyter-widgets/base",
            "_view_module_version": "1.2.0",
            "_view_name": "LayoutView",
            "align_content": null,
            "align_items": null,
            "align_self": null,
            "border": null,
            "bottom": null,
            "display": null,
            "flex": null,
            "flex_flow": null,
            "grid_area": null,
            "grid_auto_columns": null,
            "grid_auto_flow": null,
            "grid_auto_rows": null,
            "grid_column": null,
            "grid_gap": null,
            "grid_row": null,
            "grid_template_areas": null,
            "grid_template_columns": null,
            "grid_template_rows": null,
            "height": null,
            "justify_content": null,
            "justify_items": null,
            "left": null,
            "margin": null,
            "max_height": null,
            "max_width": null,
            "min_height": null,
            "min_width": null,
            "object_fit": null,
            "object_position": null,
            "order": null,
            "overflow": null,
            "overflow_x": null,
            "overflow_y": null,
            "padding": null,
            "right": null,
            "top": null,
            "visibility": null,
            "width": null
          }
        },
        "a4bb25b004904aff8e2f6bf16b439157": {
          "model_module": "@jupyter-widgets/controls",
          "model_name": "DescriptionStyleModel",
          "model_module_version": "1.5.0",
          "state": {
            "_model_module": "@jupyter-widgets/controls",
            "_model_module_version": "1.5.0",
            "_model_name": "DescriptionStyleModel",
            "_view_count": null,
            "_view_module": "@jupyter-widgets/base",
            "_view_module_version": "1.2.0",
            "_view_name": "StyleView",
            "description_width": ""
          }
        }
      }
    }
  },
  "cells": [
    {
      "cell_type": "markdown",
      "metadata": {
        "id": "view-in-github",
        "colab_type": "text"
      },
      "source": [
        "<a href=\"https://colab.research.google.com/github/joerg84/Graph_Powered_ML_Workshop/blob/master/Node2VecIntro.ipynb\" target=\"_parent\"><img src=\"https://colab.research.google.com/assets/colab-badge.svg\" alt=\"Open In Colab\"/></a>"
      ]
    },
    {
      "cell_type": "markdown",
      "source": [
        "# Basic Node2Vec  and Embeddings\n"
      ],
      "metadata": {
        "id": "sLG5PA8afQ82"
      }
    },
    {
      "cell_type": "markdown",
      "source": [
        "<a href=\"https://colab.research.google.com/github/joerg84/Graph_Powered_ML_Workshop/blob/master/Node2VecIntro.ipynb\" target=\"_parent\"><img src=\"https://colab.research.google.com/assets/colab-badge.svg\" alt=\"Open In Colab\"/></a>"
      ],
      "metadata": {
        "id": "2Op9SLvjfINw"
      }
    },
    {
      "cell_type": "markdown",
      "source": [
        "In this notebook we will explore a basic example using our favorite Karate Club Graph and Node2Vec.\n",
        "\n"
      ],
      "metadata": {
        "id": "2MDNGkpabLvt"
      }
    },
    {
      "cell_type": "code",
      "source": [
        "%%capture\n",
        "!pip3 install  node2vec"
      ],
      "metadata": {
        "id": "517q8Lj_Wp6p"
      },
      "execution_count": 1,
      "outputs": []
    },
    {
      "cell_type": "code",
      "source": [
        "import networkx as nx\n",
        "import pandas as pd\n",
        "from node2vec import Node2Vec as n2v"
      ],
      "metadata": {
        "id": "_fWhE_Fzaz-m"
      },
      "execution_count": 2,
      "outputs": []
    },
    {
      "cell_type": "code",
      "source": [
        "# Load the Zachary's Karate Club as a NetworkX Graph object\n",
        "KCG = nx.karate_club_graph()\n",
        "\n",
        "print(KCG.nodes[1])\n",
        "print(KCG.nodes[33])\n",
        "\n",
        "# print final assignments\n",
        "#for node in KCG.nodes:\n",
        "#  print(str(node+1)+\",\" + str(KCG.nodes[node]['club']))\n",
        "\n",
        "nx.draw(KCG, with_labels=True, font_weight='bold')"
      ],
      "metadata": {
        "id": "ozOPGBryUEcf",
        "outputId": "38752a3d-fb08-4ea8-e70e-55441c65dcf8",
        "colab": {
          "base_uri": "https://localhost:8080/",
          "height": 551
        }
      },
      "execution_count": 3,
      "outputs": [
        {
          "output_type": "stream",
          "name": "stdout",
          "text": [
            "{'club': 'Mr. Hi'}\n",
            "{'club': 'Officer'}\n"
          ]
        },
        {
          "output_type": "display_data",
          "data": {
            "text/plain": [
              "<Figure size 640x480 with 1 Axes>"
            ],
            "image/png": "[encoded data removed]"
          },
          "metadata": {}
        }
      ]
    },
    {
      "cell_type": "markdown",
      "source": [
        "Next, let us run Node2Vec to create embeddings."
      ],
      "metadata": {
        "id": "fgYRDxwhbU7r"
      }
    },
    {
      "cell_type": "code",
      "source": [
        "# Generate Random walks\n",
        "g_emb = n2v(KCG, dimensions=2)\n",
        "WINDOW = 1 # Node2Vec fit window\n",
        "MIN_COUNT = 1 # Node2Vec min. count\n",
        "BATCH_WORDS = 4 # Node2Vec batch words\n",
        "\n",
        "# Fit model\n",
        "model = g_emb.fit(\n",
        "    vector_size = 2,\n",
        "    window=WINDOW,\n",
        "    min_count=MIN_COUNT,\n",
        "    batch_words=BATCH_WORDS\n",
        ")"
      ],
      "metadata": {
        "id": "QQ6OAWpDS46I",
        "colab": {
          "base_uri": "https://localhost:8080/",
          "height": 66,
          "referenced_widgets": [
            "1765e7ef0aff48d989d3739b60a7f484",
            "fd26f66258c441afb81fdecef7106e57",
            "0685a39222104cd983be153c53d93247",
            "0254c2f147a2469eaac2f26b96f1c20b",
            "c3c0d00c234e49dfa29c95f69ada667d",
            "25ca1feb5c444331a4c84d569dbf81f6",
            "5621c9718770420bae6ba2d8e3976299",
            "e049f156a1ea4a009d069b85355d19ff",
            "3e31a2ab9339490d98698b7bba2f2508",
            "1cf9ed1aca4b4a4c893a16456ccb8e3d",
            "a4bb25b004904aff8e2f6bf16b439157"
          ]
        },
        "outputId": "f1d91fb2-be6a-4fab-ff39-a11a2838765a"
      },
      "execution_count": 4,
      "outputs": [
        {
          "output_type": "display_data",
          "data": {
            "text/plain": [
              "Computing transition probabilities:   0%|          | 0/34 [00:00<?, ?it/s]"
            ],
            "application/vnd.jupyter.widget-view+json": {
              "version_major": 2,
              "version_minor": 0,
              "model_id": "1765e7ef0aff48d989d3739b60a7f484"
            }
          },
          "metadata": {}
        },
        {
          "output_type": "stream",
          "name": "stderr",
          "text": [
            "Generating walks (CPU: 1): 100%|██████████| 10/10 [00:00<00:00, 63.71it/s]\n"
          ]
        }
      ]
    },
    {
      "cell_type": "markdown",
      "source": [
        "Let us find similar members/nodes:"
      ],
      "metadata": {
        "id": "up7h_GkNcAd1"
      }
    },
    {
      "cell_type": "code",
      "source": [
        "input_node = '1'\n",
        "for s in model.wv.most_similar(input_node, topn = 10):\n",
        "    print(s)"
      ],
      "metadata": {
        "id": "fl5-q1bmcG29",
        "colab": {
          "base_uri": "https://localhost:8080/"
        },
        "outputId": "18c7bc19-c33d-4f30-d4b6-add3d06b0ef5"
      },
      "execution_count": 5,
      "outputs": [
        {
          "output_type": "stream",
          "name": "stdout",
          "text": [
            "('7', 0.9999281764030457)\n",
            "('19', 0.9992406964302063)\n",
            "('3', 0.9983761310577393)\n",
            "('17', 0.9931438565254211)\n",
            "('0', 0.9888537526130676)\n",
            "('13', 0.988137423992157)\n",
            "('12', 0.9864974021911621)\n",
            "('2', 0.9857160449028015)\n",
            "('11', 0.9851359724998474)\n",
            "('21', 0.9840869903564453)\n"
          ]
        }
      ]
    },
    {
      "cell_type": "markdown",
      "source": [
        "Let us combine the embedding with the actual club name after the split."
      ],
      "metadata": {
        "id": "kYAyE9dVbKIC"
      }
    },
    {
      "cell_type": "code",
      "source": [
        "embeddings = []\n",
        "for node in KCG.nodes:\n",
        "  embedding = list(model.wv.get_vector(str(node)))\n",
        "  embeddings.append(embedding)\n",
        "\n",
        "ef = pd.DataFrame(embeddings, columns=['x', 'y'])\n",
        "print (\"2D Embedding for each node:\")\n",
        "print(ef)\n",
        "\n",
        "print(\"Embeddings Plot\")\n",
        "ef.plot.scatter(x='x', y='y', s=50)\n",
        "\n"
      ],
      "metadata": {
        "id": "UD86eLHgY6_t",
        "colab": {
          "base_uri": "https://localhost:8080/",
          "height": 1000
        },
        "outputId": "e44029b6-10cd-468a-c7a0-4ea07977dc34",
        "collapsed": true
      },
      "execution_count": 13,
      "outputs": [
        {
          "output_type": "stream",
          "name": "stdout",
          "text": [
            "2D Embedding for each node:\n",
            "           x         y\n",
            "0   0.055632  1.423553\n",
            "1  -0.137784  1.243129\n",
            "2  -0.316039  1.100686\n",
            "3  -0.070591  1.320970\n",
            "4   0.565301  2.024575\n",
            "5   0.795717  2.468235\n",
            "6   0.663879  2.296049\n",
            "7  -0.150117  1.220542\n",
            "8  -0.784901  0.830393\n",
            "9  -0.970963  0.763394\n",
            "10  0.599378  2.174888\n",
            "11  0.089602  1.437617\n",
            "12  0.077849  1.436739\n",
            "13 -0.294165  1.085805\n",
            "14 -1.406202  0.717644\n",
            "15 -1.406585  0.713221\n",
            "16  0.844308  2.545988\n",
            "17  0.009155  1.350210\n",
            "18 -1.431314  0.662843\n",
            "19 -0.174119  1.157108\n",
            "20 -1.617987  0.684183\n",
            "21  0.096475  1.411350\n",
            "22 -1.320812  0.729884\n",
            "23 -1.829107  0.701720\n",
            "24 -1.703129  0.663099\n",
            "25 -1.772549  0.645367\n",
            "26 -1.775907  0.664188\n",
            "27 -1.423486  0.699096\n",
            "28 -0.948667  0.777170\n",
            "29 -1.862404  0.678899\n",
            "30 -1.057658  0.784021\n",
            "31 -1.385234  0.697078\n",
            "32 -1.462840  0.725140\n",
            "33 -1.428010  0.744825\n",
            "Embeddings Plot\n"
          ]
        },
        {
          "output_type": "execute_result",
          "data": {
            "text/plain": [
              "<Axes: xlabel='x', ylabel='y'>"
            ]
          },
          "metadata": {},
          "execution_count": 13
        },
        {
          "output_type": "display_data",
          "data": {
            "text/plain": [
              "<Figure size 640x480 with 1 Axes>"
            ],
            "image/png": "[encoded data removed]"
          },
          "metadata": {}
        }
      ]
    },
    {
      "cell_type": "markdown",
      "source": [
        "As we actually know the club each member ended up, let us augment that information. Please note this wasn't used during the embedding generation."
      ],
      "metadata": {
        "id": "nAaACjWN_wHY"
      }
    },
    {
      "cell_type": "code",
      "source": [
        "embeddings = []\n",
        "for node in KCG.nodes:\n",
        "  embedding = list(model.wv.get_vector(str(node)))\n",
        "  club = KCG.nodes[node]['club']\n",
        "  embeddings.append(embedding + [club])\n",
        "\n",
        "df = pd.DataFrame(embeddings, columns=['x', 'y', 'club'])\n",
        "print (\"Augmented Embeddings with club Information:\")\n",
        "print(df)"
      ],
      "metadata": {
        "colab": {
          "base_uri": "https://localhost:8080/"
        },
        "id": "p8MJbMvV_x22",
        "outputId": "2d7b4874-caee-47f0-861f-3106d4930505"
      },
      "execution_count": 12,
      "outputs": [
        {
          "output_type": "stream",
          "name": "stdout",
          "text": [
            "Augmented Embeddings with club Information:\n",
            "           x         y     club\n",
            "0   0.055632  1.423553   Mr. Hi\n",
            "1  -0.137784  1.243129   Mr. Hi\n",
            "2  -0.316039  1.100686   Mr. Hi\n",
            "3  -0.070591  1.320970   Mr. Hi\n",
            "4   0.565301  2.024575   Mr. Hi\n",
            "5   0.795717  2.468235   Mr. Hi\n",
            "6   0.663879  2.296049   Mr. Hi\n",
            "7  -0.150117  1.220542   Mr. Hi\n",
            "8  -0.784901  0.830393   Mr. Hi\n",
            "9  -0.970963  0.763394  Officer\n",
            "10  0.599378  2.174888   Mr. Hi\n",
            "11  0.089602  1.437617   Mr. Hi\n",
            "12  0.077849  1.436739   Mr. Hi\n",
            "13 -0.294165  1.085805   Mr. Hi\n",
            "14 -1.406202  0.717644  Officer\n",
            "15 -1.406585  0.713221  Officer\n",
            "16  0.844308  2.545988   Mr. Hi\n",
            "17  0.009155  1.350210   Mr. Hi\n",
            "18 -1.431314  0.662843  Officer\n",
            "19 -0.174119  1.157108   Mr. Hi\n",
            "20 -1.617987  0.684183  Officer\n",
            "21  0.096475  1.411350   Mr. Hi\n",
            "22 -1.320812  0.729884  Officer\n",
            "23 -1.829107  0.701720  Officer\n",
            "24 -1.703129  0.663099  Officer\n",
            "25 -1.772549  0.645367  Officer\n",
            "26 -1.775907  0.664188  Officer\n",
            "27 -1.423486  0.699096  Officer\n",
            "28 -0.948667  0.777170  Officer\n",
            "29 -1.862404  0.678899  Officer\n",
            "30 -1.057658  0.784021  Officer\n",
            "31 -1.385234  0.697078  Officer\n",
            "32 -1.462840  0.725140  Officer\n",
            "33 -1.428010  0.744825  Officer\n"
          ]
        }
      ]
    },
    {
      "cell_type": "markdown",
      "source": [
        "Let us print the embedded nodes together with the color of the actual resulting club."
      ],
      "metadata": {
        "id": "tlDWebvYenZB"
      }
    },
    {
      "cell_type": "code",
      "source": [
        "colors = ['red' if x == 'Mr. Hi' else 'blue' for x in df.club]\n",
        "df.plot.scatter(x='x', y='y', s=50, c=colors)"
      ],
      "metadata": {
        "id": "eVLmhXb-aadJ",
        "colab": {
          "base_uri": "https://localhost:8080/",
          "height": 466
        },
        "outputId": "65b69a38-0558-4dfd-fcb6-1c269f901962"
      },
      "execution_count": 7,
      "outputs": [
        {
          "output_type": "execute_result",
          "data": {
            "text/plain": [
              "<Axes: xlabel='x', ylabel='y'>"
            ]
          },
          "metadata": {},
          "execution_count": 7
        },
        {
          "output_type": "display_data",
          "data": {
            "text/plain": [
              "<Figure size 640x480 with 1 Axes>"
            ],
            "image/png": "[encoded data removed]"
          },
          "metadata": {}
        }
      ]
    },
    {
      "cell_type": "markdown",
      "source": [
        "# Bonus:  Dimensionality Reduction"
      ],
      "metadata": {
        "id": "YyVKd9YucOzB"
      }
    },
    {
      "cell_type": "markdown",
      "source": [
        "Normally, we want embeddings dimensions greater than two. Unfortunately, high dimensional spaces are ... hard to visualize. Luckily we have tools such as [TSNE](https://scikit-learn.org/stable/modules/generated/sklearn.manifold.TSNE.html) or [UMAP](https://umap-learn.readthedocs.io/en/latest/basic_usage.html) to reduce dimensionality."
      ],
      "metadata": {
        "id": "C9o6Z-kRdAzB"
      }
    },
    {
      "cell_type": "code",
      "source": [
        "import numpy as np\n",
        "from sklearn.manifold import TSNE"
      ],
      "metadata": {
        "id": "3n3H-2WyctT5"
      },
      "execution_count": 8,
      "outputs": []
    },
    {
      "cell_type": "code",
      "source": [
        "X = np.array([[0, 0, 0], [0, 1, 1], [1, 0, 1], [1, 1, 1]])\n",
        "X_embedded = TSNE(n_components=2, learning_rate='auto',\n",
        "             init='random', perplexity=3).fit_transform(X)\n",
        "X_embedded.shape"
      ],
      "metadata": {
        "id": "s1MI-epfclar",
        "outputId": "52cbeb00-0c83-4afb-cf04-716f25ac88d8",
        "colab": {
          "base_uri": "https://localhost:8080/"
        }
      },
      "execution_count": 9,
      "outputs": [
        {
          "output_type": "execute_result",
          "data": {
            "text/plain": [
              "(4, 2)"
            ]
          },
          "metadata": {},
          "execution_count": 9
        }
      ]
    }
  ]
}