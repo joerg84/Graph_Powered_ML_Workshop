{
  "nbformat": 4,
  "nbformat_minor": 0,
  "metadata": {
    "colab": {
      "provenance": []
    },
    "kernelspec": {
      "name": "python3",
      "display_name": "Python 3"
    },
    "language_info": {
      "name": "python"
    }
  },
  "cells": [
    {
      "cell_type": "markdown",
      "source": [
        "# Basic Node2Vec  and Embeddings\n"
      ],
      "metadata": {
        "id": "sLG5PA8afQ82"
      }
    },
    {
      "cell_type": "markdown",
      "source": [
        "<a href=\"https://colab.research.google.com/github/joerg84/Graph_Powered_ML_Workshop/blob/master/Node2VecIntro.ipynb\" target=\"_parent\"><img src=\"https://colab.research.google.com/assets/colab-badge.svg\" alt=\"Open In Colab\"/></a>"
      ],
      "metadata": {
        "id": "2Op9SLvjfINw"
      }
    },
    {
      "cell_type": "markdown",
      "source": [
        "In this notebook we will explore a basic example using our favorite Karate Club Graph and Node2Vec.\n",
        "\n"
      ],
      "metadata": {
        "id": "2MDNGkpabLvt"
      }
    },
    {
      "cell_type": "code",
      "source": [
        "%%capture\n",
        "!pip3 install  node2vec"
      ],
      "metadata": {
        "id": "517q8Lj_Wp6p"
      },
      "execution_count": null,
      "outputs": []
    },
    {
      "cell_type": "code",
      "source": [
        "import networkx as nx\n",
        "import pandas as pd\n",
        "from node2vec import Node2Vec as n2v"
      ],
      "metadata": {
        "id": "_fWhE_Fzaz-m"
      },
      "execution_count": null,
      "outputs": []
    },
    {
      "cell_type": "code",
      "source": [
        "# Load the Zachary's Karate Club as a NetworkX Graph object\n",
        "KCG = nx.karate_club_graph()\n",
        "\n",
        "print(KCG.nodes[1])\n",
        "print(KCG.nodes[33])\n",
        "\n",
        "# print final assignments\n",
        "#for node in KCG.nodes:\n",
        "#  print(str(node+1)+\",\" + str(KCG.nodes[node]['club']))\n",
        "\n",
        "nx.draw(KCG, with_labels=True, font_weight='bold')"
      ],
      "metadata": {
        "id": "ozOPGBryUEcf"
      },
      "execution_count": null,
      "outputs": []
    },
    {
      "cell_type": "markdown",
      "source": [
        "Next, let us run Node2Vec to create embeddings."
      ],
      "metadata": {
        "id": "fgYRDxwhbU7r"
      }
    },
    {
      "cell_type": "code",
      "source": [
        "# Generate Random walks\n",
        "g_emb = n2v(KCG, dimensions=2)\n",
        "WINDOW = 1 # Node2Vec fit window\n",
        "MIN_COUNT = 1 # Node2Vec min. count\n",
        "BATCH_WORDS = 4 # Node2Vec batch words\n",
        "\n",
        "# Fit model\n",
        "model = g_emb.fit(\n",
        "    vector_size = 2,\n",
        "    window=WINDOW,\n",
        "    min_count=MIN_COUNT,\n",
        "    batch_words=BATCH_WORDS\n",
        ")"
      ],
      "metadata": {
        "id": "QQ6OAWpDS46I"
      },
      "execution_count": null,
      "outputs": []
    },
    {
      "cell_type": "markdown",
      "source": [
        "Let us find similar members/nodes:"
      ],
      "metadata": {
        "id": "up7h_GkNcAd1"
      }
    },
    {
      "cell_type": "code",
      "source": [
        "input_node = '1'\n",
        "for s in model.wv.most_similar(input_node, topn = 10):\n",
        "    print(s)"
      ],
      "metadata": {
        "id": "fl5-q1bmcG29"
      },
      "execution_count": null,
      "outputs": []
    },
    {
      "cell_type": "markdown",
      "source": [
        "Let us combine the embedding with the actual club name after the split."
      ],
      "metadata": {
        "id": "kYAyE9dVbKIC"
      }
    },
    {
      "cell_type": "code",
      "source": [
        "embeddings = []\n",
        "for node in KCG.nodes:\n",
        "  embedding = list(model.wv.get_vector(str(node)))\n",
        "  club = KCG.nodes[node]['club']\n",
        "  embeddings.append(embedding + [club])\n",
        "\n",
        "df = pd.DataFrame(embeddings, columns=['x', 'y', 'club'])\n",
        "print(df)"
      ],
      "metadata": {
        "id": "UD86eLHgY6_t"
      },
      "execution_count": null,
      "outputs": []
    },
    {
      "cell_type": "markdown",
      "source": [
        "Let us print the embedded nodes together with the color of the actual resulting club."
      ],
      "metadata": {
        "id": "tlDWebvYenZB"
      }
    },
    {
      "cell_type": "code",
      "source": [
        "colors = ['red' if x == 'Mr. Hi' else 'blue' for x in df.club]\n",
        "df.plot.scatter(x='x', y='y', s=50, c=colors)"
      ],
      "metadata": {
        "id": "eVLmhXb-aadJ"
      },
      "execution_count": null,
      "outputs": []
    },
    {
      "cell_type": "markdown",
      "source": [
        "# Bonus:  Dimensionality Reduction"
      ],
      "metadata": {
        "id": "YyVKd9YucOzB"
      }
    },
    {
      "cell_type": "markdown",
      "source": [
        "Normally, we want embeddings dimensions greater than two. Unfortunately, high dimensional spaces are ... hard to visualize. Luckily we have tools such as [TSNE](https://scikit-learn.org/stable/modules/generated/sklearn.manifold.TSNE.html) or [UMAP](https://umap-learn.readthedocs.io/en/latest/basic_usage.html) to reduce dimensionality."
      ],
      "metadata": {
        "id": "C9o6Z-kRdAzB"
      }
    },
    {
      "cell_type": "code",
      "source": [
        "import numpy as np\n",
        "from sklearn.manifold import TSNE"
      ],
      "metadata": {
        "id": "3n3H-2WyctT5"
      },
      "execution_count": null,
      "outputs": []
    },
    {
      "cell_type": "code",
      "source": [
        "X = np.array([[0, 0, 0], [0, 1, 1], [1, 0, 1], [1, 1, 1]])\n",
        "X_embedded = TSNE(n_components=2, learning_rate='auto',\n",
        "             init='random', perplexity=3).fit_transform(X)\n",
        "X_embedded.shape"
      ],
      "metadata": {
        "id": "s1MI-epfclar"
      },
      "execution_count": null,
      "outputs": []
    }
  ]
}